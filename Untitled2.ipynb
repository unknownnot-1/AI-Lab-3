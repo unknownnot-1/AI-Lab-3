{
 "cells": [
  {
   "cell_type": "code",
   "execution_count": 1,
   "id": "0478038d-ec5f-4885-9f8e-f287e0245d74",
   "metadata": {},
   "outputs": [
    {
     "name": "stdout",
     "output_type": "stream",
     "text": [
      "Predicted labels for test set: [0 1 0 0]\n",
      "\n",
      "Confusion Matrix:\n",
      " [[2 0]\n",
      " [1 1]]\n",
      "\n",
      "Accuracy: 0.75\n",
      "\n",
      "True Positives (TP): 1\n",
      "False Positives (FP): 0\n",
      "True Negatives (TN): 2\n",
      "False Negatives (FN): 1\n",
      "\n",
      "Manual Accuracy Calculation: 0.75\n"
     ]
    }
   ],
   "source": [
    "import pandas as pd\n",
    "from sklearn.model_selection import train_test_split\n",
    "from sklearn.preprocessing import LabelEncoder\n",
    "from sklearn.neighbors import KNeighborsClassifier\n",
    "from sklearn.metrics import confusion_matrix, accuracy_score\n",
    "data = {\n",
    "    'Weather': ['Cloudy', 'Sunny', 'Rainy', 'Rainy', 'Cloudy', 'Sunny', 'Cloudy', 'Rainy', \n",
    "                'Cloudy', 'Cloudy', 'Sunny', 'Rainy', 'Cloudy', 'Sunny', 'Cloudy', 'Sunny', 'Rainy'],\n",
    "    'Temperature': ['Cool', 'Mild', 'Hot', 'Cool', 'Mild', 'Hot', 'Mild', 'Hot', 'Cool', \n",
    "                    'Mild', 'Mild', 'Hot', 'Cool', 'Mild', 'Hot', 'Cool', 'Mild'],\n",
    "    'Play': ['No', 'Yes', 'No', 'Yes', 'Yes', 'No', 'Yes', 'Yes', 'No', 'Yes', 'Yes', 'No', \n",
    "             'Yes', 'Yes', 'No', 'Yes', 'Yes']\n",
    "}\n",
    "df = pd.DataFrame(data)\n",
    "le = LabelEncoder()\n",
    "df['Weather'] = le.fit_transform(df['Weather'])\n",
    "df['Temperature'] = le.fit_transform(df['Temperature'])\n",
    "df['Play'] = le.fit_transform(df['Play'])\n",
    "X = df[['Weather', 'Temperature']]\n",
    "y = df['Play']\n",
    "X_train, X_test, y_train, y_test = train_test_split(X, y, test_size=0.2, random_state=42)\n",
    "model = KNeighborsClassifier(n_neighbors=3, metric='euclidean')\n",
    "model.fit(X_train, y_train)\n",
    "y_pred = model.predict(X_test)\n",
    "print(\"Predicted labels for test set:\", y_pred)\n",
    "conf_mat = confusion_matrix(y_test, y_pred)\n",
    "print(\"\\nConfusion Matrix:\\n\", conf_mat)\n",
    "accuracy = accuracy_score(y_test, y_pred)\n",
    "print(\"\\nAccuracy:\", accuracy)\n",
    "TP = conf_mat[1][1]\n",
    "TN = conf_mat[0][0]\n",
    "FP = conf_mat[0][1]\n",
    "FN = conf_mat[1][0]\n",
    "print(\"\\nTrue Positives (TP):\", TP)\n",
    "print(\"False Positives (FP):\", FP)\n",
    "print(\"True Negatives (TN):\", TN)\n",
    "print(\"False Negatives (FN):\", FN)\n",
    "manual_accuracy = (TP + TN) / (TP + TN + FP + FN)\n",
    "print(\"\\nManual Accuracy Calculation:\", manual_accuracy)"
   ]
  },
  {
   "cell_type": "code",
   "execution_count": null,
   "id": "9b89b9ef-28f4-4b25-96b6-b1caef4111ae",
   "metadata": {},
   "outputs": [],
   "source": []
  }
 ],
 "metadata": {
  "kernelspec": {
   "display_name": "Python 3 (ipykernel)",
   "language": "python",
   "name": "python3"
  },
  "language_info": {
   "codemirror_mode": {
    "name": "ipython",
    "version": 3
   },
   "file_extension": ".py",
   "mimetype": "text/x-python",
   "name": "python",
   "nbconvert_exporter": "python",
   "pygments_lexer": "ipython3",
   "version": "3.12.4"
  }
 },
 "nbformat": 4,
 "nbformat_minor": 5
}
