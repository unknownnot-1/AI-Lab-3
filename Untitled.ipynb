{
 "cells": [
  {
   "cell_type": "code",
   "execution_count": 1,
   "id": "8130281d-7432-409f-94fc-6bc9e0a04977",
   "metadata": {},
   "outputs": [
    {
     "name": "stdout",
     "output_type": "stream",
     "text": [
      "Distances from query instance to each training sample: [(4.0, 'Bad'), (5.0, 'Bad'), (3.0, 'Good'), (3.605551275463989, 'Good')]\n",
      "Nearest neighbors (k=3): [(3.0, 'Good'), (3.605551275463989, 'Good'), (4.0, 'Bad')]\n",
      "Predicted class for the query instance: Good\n"
     ]
    }
   ],
   "source": [
    "import numpy as np\n",
    "from collections import Counter\n",
    "training_data = {\n",
    "    'X1': [7, 7, 3, 1],\n",
    "    'X2': [7, 4, 4, 4],\n",
    "    'Y': ['Bad', 'Bad', 'Good', 'Good']\n",
    "}\n",
    "query_instance = (3, 7)\n",
    "distances = []\n",
    "for i in range(len(training_data['X1'])):\n",
    "    p1, p2 = training_data['X1'][i], training_data['X2'][i]\n",
    "    q1, q2 = query_instance\n",
    "    distance = np.sqrt((q1 - p1) ** 2 + (q2 - p2) ** 2)\n",
    "    distances.append((distance, training_data['Y'][i]))\n",
    "k = 3\n",
    "nearest_neighbors = sorted(distances)[:k]\n",
    "neighbor_classes = [neighbor[1] for neighbor in nearest_neighbors]\n",
    "predicted_class = Counter(neighbor_classes).most_common(1)[0][0]\n",
    "print(\"Distances from query instance to each training sample:\", distances)\n",
    "print(\"Nearest neighbors (k=3):\", nearest_neighbors)\n",
    "print(\"Predicted class for the query instance:\", predicted_class)"
   ]
  },
  {
   "cell_type": "code",
   "execution_count": null,
   "id": "ef5fbd6d-8bd1-4b84-a894-1ff849b0d97f",
   "metadata": {},
   "outputs": [],
   "source": []
  }
 ],
 "metadata": {
  "kernelspec": {
   "display_name": "Python 3 (ipykernel)",
   "language": "python",
   "name": "python3"
  },
  "language_info": {
   "codemirror_mode": {
    "name": "ipython",
    "version": 3
   },
   "file_extension": ".py",
   "mimetype": "text/x-python",
   "name": "python",
   "nbconvert_exporter": "python",
   "pygments_lexer": "ipython3",
   "version": "3.12.4"
  }
 },
 "nbformat": 4,
 "nbformat_minor": 5
}
