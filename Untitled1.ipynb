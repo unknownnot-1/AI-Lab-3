{
 "cells": [
  {
   "cell_type": "code",
   "execution_count": 1,
   "id": "b1752f22-595e-4a8b-a187-57d6ea5584c7",
   "metadata": {},
   "outputs": [
    {
     "name": "stdout",
     "output_type": "stream",
     "text": [
      "Prediction: [1 1 1]\n",
      "Confusion Matrix:\n",
      " [[0 1]\n",
      " [0 2]]\n",
      "Accuracy: 0.6666666666666666\n",
      "True Positives (TP): 2\n",
      "False Positives (FP): 1\n",
      "True Negatives (TN): 0\n",
      "False Negatives (FN): 0\n",
      "Manual Accuracy Calculation: 0.6666666666666666\n"
     ]
    }
   ],
   "source": [
    "import pandas as pd\n",
    "from sklearn import preprocessing\n",
    "from sklearn.neighbors import KNeighborsClassifier\n",
    "from sklearn.metrics import confusion_matrix, accuracy_score\n",
    "from sklearn.model_selection import train_test_split\n",
    "data = {\n",
    "    'Weather': ['Sunny', 'Sunny', 'Overcast', 'Rainy', 'Rainy', 'Overcast', 'Sunny', 'Sunny', 'Overcast', 'Overcast', 'Sunny', 'Rainy', 'Sunny', 'Overcast'],\n",
    "    'Temperature': ['Hot', 'Hot', 'Hot', 'Mild', 'Cool', 'Cool', 'Mild', 'Cool', 'Mild', 'Mild', 'Mild', 'Cool', 'Mild', 'Mild'],\n",
    "    'Play': ['No', 'No', 'Yes', 'Yes', 'Yes', 'Yes', 'No', 'Yes', 'Yes', 'Yes', 'Yes', 'Yes', 'Yes', 'No']\n",
    "}\n",
    "df = pd.DataFrame(data)\n",
    "le = preprocessing.LabelEncoder()\n",
    "weather_encoded = le.fit_transform(df['Weather'])\n",
    "temp_encoded = le.fit_transform(df['Temperature'])\n",
    "play_encoded = le.fit_transform(df['Play'])\n",
    "features = list(zip(weather_encoded, temp_encoded))\n",
    "features_train, features_test, label_train, label_test = train_test_split(\n",
    "    features, play_encoded, test_size=0.2, random_state=42\n",
    ")\n",
    "model = KNeighborsClassifier(n_neighbors=3, metric='euclidean')\n",
    "model.fit(features_train, label_train)\n",
    "predicted = model.predict(features_test)\n",
    "print(\"Prediction:\", predicted)\n",
    "conf_mat = confusion_matrix(label_test, predicted)\n",
    "print(\"Confusion Matrix:\\n\", conf_mat)\n",
    "accuracy = accuracy_score(label_test, predicted)\n",
    "print(\"Accuracy:\", accuracy)\n",
    "TP = conf_mat[1][1]\n",
    "TN = conf_mat[0][0]\n",
    "FP = conf_mat[0][1]\n",
    "FN = conf_mat[1][0]\n",
    "print(f\"True Positives (TP): {TP}\")\n",
    "print(f\"False Positives (FP): {FP}\")\n",
    "print(f\"True Negatives (TN): {TN}\")\n",
    "print(f\"False Negatives (FN): {FN}\")\n",
    "manual_accuracy = (TP + TN) / (TP + TN + FP + FN)\n",
    "print(\"Manual Accuracy Calculation:\", manual_accuracy)\n"
   ]
  },
  {
   "cell_type": "code",
   "execution_count": null,
   "id": "cd850da5-40a6-4749-81b3-a6d4c30c724b",
   "metadata": {},
   "outputs": [],
   "source": []
  },
  {
   "cell_type": "code",
   "execution_count": null,
   "id": "a9c84c9d-362a-401d-b2ad-7ae4b2bede1b",
   "metadata": {},
   "outputs": [],
   "source": []
  }
 ],
 "metadata": {
  "kernelspec": {
   "display_name": "Python 3 (ipykernel)",
   "language": "python",
   "name": "python3"
  },
  "language_info": {
   "codemirror_mode": {
    "name": "ipython",
    "version": 3
   },
   "file_extension": ".py",
   "mimetype": "text/x-python",
   "name": "python",
   "nbconvert_exporter": "python",
   "pygments_lexer": "ipython3",
   "version": "3.12.4"
  }
 },
 "nbformat": 4,
 "nbformat_minor": 5
}
